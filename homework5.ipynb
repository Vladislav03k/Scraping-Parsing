{
  "nbformat": 4,
  "nbformat_minor": 0,
  "metadata": {
    "colab": {
      "name": "homework5.ipynb",
      "provenance": []
    },
    "kernelspec": {
      "name": "python3",
      "display_name": "Python 3"
    },
    "language_info": {
      "name": "python"
    }
  },
  "cells": [
    {
      "cell_type": "code",
      "execution_count": 1,
      "metadata": {
        "id": "rsPEapvEXm30"
      },
      "outputs": [],
      "source": [
        "import numpy as np\n",
        "import pandas as pd \n",
        "import matplotlib.pyplot as plt\n",
        "\n",
        "plt.style.use('fivethirtyeight')\n",
        "\n",
        "%config InlineBackend.fugure_format = 'svg'\n",
        "%matplotlib inline"
      ]
    },
    {
      "cell_type": "markdown",
      "source": [
        "Задание 1\n",
        "\n",
        "Импортируйте библиотеки pandas, numpy и matplotlib.\n",
        "\n",
        "Загрузите \"Boston House Prices dataset\" из встроенных наборов \n",
        "данных библиотеки sklearn.\n",
        "\n",
        "Создайте датафреймы X и y из этих данных.\n",
        "\n",
        "Разбейте эти датафреймы на тренировочные (X_train, y_train) и тестовые (X_test, y_test)\n",
        "с помощью функции train_test_split так, чтобы размер тестовой выборки\n",
        "составлял 20% от всех данных, при этом аргумент random_state должен быть равен 42.\n",
        "\n",
        "Масштабируйте данные с помощью StandardScaler.\n",
        "\n",
        "Постройте модель TSNE на тренировочный данных с параметрами:\n",
        "\n",
        "n_components=2, learning_rate=250, random_state=42.\n",
        "\n",
        "Постройте диаграмму рассеяния на этих данных.\n"
      ],
      "metadata": {
        "id": "z_Rsd1QBYStu"
      }
    },
    {
      "cell_type": "code",
      "source": [
        "from sklearn.datasets import load_boston"
      ],
      "metadata": {
        "id": "iEt5wN9xYOVq"
      },
      "execution_count": 2,
      "outputs": []
    },
    {
      "cell_type": "code",
      "source": [
        "boston = load_boston()\n",
        "\n",
        "X = pd.DataFrame(boston.data, columns = boston.feature_names)\n",
        "y = boston.target\n",
        "\n",
        "X.info()"
      ],
      "metadata": {
        "colab": {
          "base_uri": "https://localhost:8080/"
        },
        "id": "Bbv0IQszY68W",
        "outputId": "60451b69-8ebf-4199-b6a9-16812766bed9"
      },
      "execution_count": 3,
      "outputs": [
        {
          "output_type": "stream",
          "name": "stdout",
          "text": [
            "<class 'pandas.core.frame.DataFrame'>\n",
            "RangeIndex: 506 entries, 0 to 505\n",
            "Data columns (total 13 columns):\n",
            " #   Column   Non-Null Count  Dtype  \n",
            "---  ------   --------------  -----  \n",
            " 0   CRIM     506 non-null    float64\n",
            " 1   ZN       506 non-null    float64\n",
            " 2   INDUS    506 non-null    float64\n",
            " 3   CHAS     506 non-null    float64\n",
            " 4   NOX      506 non-null    float64\n",
            " 5   RM       506 non-null    float64\n",
            " 6   AGE      506 non-null    float64\n",
            " 7   DIS      506 non-null    float64\n",
            " 8   RAD      506 non-null    float64\n",
            " 9   TAX      506 non-null    float64\n",
            " 10  PTRATIO  506 non-null    float64\n",
            " 11  B        506 non-null    float64\n",
            " 12  LSTAT    506 non-null    float64\n",
            "dtypes: float64(13)\n",
            "memory usage: 51.5 KB\n"
          ]
        },
        {
          "output_type": "stream",
          "name": "stderr",
          "text": [
            "/usr/local/lib/python3.7/dist-packages/sklearn/utils/deprecation.py:87: FutureWarning: Function load_boston is deprecated; `load_boston` is deprecated in 1.0 and will be removed in 1.2.\n",
            "\n",
            "    The Boston housing prices dataset has an ethical problem. You can refer to\n",
            "    the documentation of this function for further details.\n",
            "\n",
            "    The scikit-learn maintainers therefore strongly discourage the use of this\n",
            "    dataset unless the purpose of the code is to study and educate about\n",
            "    ethical issues in data science and machine learning.\n",
            "\n",
            "    In this special case, you can fetch the dataset from the original\n",
            "    source::\n",
            "\n",
            "        import pandas as pd\n",
            "        import numpy as np\n",
            "\n",
            "\n",
            "        data_url = \"http://lib.stat.cmu.edu/datasets/boston\"\n",
            "        raw_df = pd.read_csv(data_url, sep=\"\\s+\", skiprows=22, header=None)\n",
            "        data = np.hstack([raw_df.values[::2, :], raw_df.values[1::2, :2]])\n",
            "        target = raw_df.values[1::2, 2]\n",
            "\n",
            "    Alternative datasets include the California housing dataset (i.e.\n",
            "    :func:`~sklearn.datasets.fetch_california_housing`) and the Ames housing\n",
            "    dataset. You can load the datasets as follows::\n",
            "\n",
            "        from sklearn.datasets import fetch_california_housing\n",
            "        housing = fetch_california_housing()\n",
            "\n",
            "    for the California housing dataset and::\n",
            "\n",
            "        from sklearn.datasets import fetch_openml\n",
            "        housing = fetch_openml(name=\"house_prices\", as_frame=True)\n",
            "\n",
            "    for the Ames housing dataset.\n",
            "    \n",
            "  warnings.warn(msg, category=FutureWarning)\n"
          ]
        }
      ]
    },
    {
      "cell_type": "code",
      "source": [
        "from sklearn.model_selection import train_test_split\n",
        "\n",
        "X_train, X_test, y_train, y_test = train_test_split(X, y, test_size = 0.2, random_state = 42)"
      ],
      "metadata": {
        "id": "_2idlOUAZTFZ"
      },
      "execution_count": 5,
      "outputs": []
    },
    {
      "cell_type": "code",
      "source": [
        "from sklearn.preprocessing import StandardScaler\n",
        "\n",
        "scaler = StandardScaler(with_mean=  False)"
      ],
      "metadata": {
        "id": "o4ru89cIZ4cL"
      },
      "execution_count": 6,
      "outputs": []
    },
    {
      "cell_type": "code",
      "source": [
        "X_train_scaled = pd.DataFrame(scaler.fit_transform(X_train), columns = X_train.columns)\n",
        "X_test_scaled = pd.DataFrame(scaler.fit_transform(X_test), columns = X_test.columns)"
      ],
      "metadata": {
        "id": "6vrpi4EnaU3d"
      },
      "execution_count": 7,
      "outputs": []
    },
    {
      "cell_type": "code",
      "source": [
        "from sklearn.manifold import TSNE\n",
        "\n",
        "tsne = TSNE(n_components=2, learning_rate=150, random_state= 100)\n",
        "\n",
        "X_train_tsne = tsne.fit_transform(X_train_scaled)\n",
        "\n",
        "X_train_scaled.shape\n",
        "X_train_tsne.shape"
      ],
      "metadata": {
        "colab": {
          "base_uri": "https://localhost:8080/"
        },
        "id": "46gQhODea5Cs",
        "outputId": "fd440f32-331d-4bbb-bc60-5c613122362d"
      },
      "execution_count": 8,
      "outputs": [
        {
          "output_type": "stream",
          "name": "stderr",
          "text": [
            "/usr/local/lib/python3.7/dist-packages/sklearn/manifold/_t_sne.py:783: FutureWarning: The default initialization in TSNE will change from 'random' to 'pca' in 1.2.\n",
            "  FutureWarning,\n"
          ]
        },
        {
          "output_type": "execute_result",
          "data": {
            "text/plain": [
              "(404, 2)"
            ]
          },
          "metadata": {},
          "execution_count": 8
        }
      ]
    },
    {
      "cell_type": "code",
      "source": [
        "plt.scatter(X_train_tsne[:, 0], X_train_tsne[:, 1])\n",
        "\n",
        "plt.show()"
      ],
      "metadata": {
        "colab": {
          "base_uri": "https://localhost:8080/",
          "height": 262
        },
        "id": "RFZPn8gpbq1C",
        "outputId": "7f96638f-53e4-4d9e-cc2b-3cefb3b81c1e"
      },
      "execution_count": 9,
      "outputs": [
        {
          "output_type": "display_data",
          "data": {
            "image/png": "[encoded data removed]",
            "text/plain": [
              "<Figure size 432x288 with 1 Axes>"
            ]
          },
          "metadata": {
            "needs_background": "light"
          }
        }
      ]
    },
    {
      "cell_type": "markdown",
      "source": [
        "Задание 2\n",
        "\n",
        "С помощью KMeans разбейте данные из тренировочного набора на 3 кластера,\n",
        "используйте все признаки из датафрейма X_train.\n",
        "\n",
        "Параметр max_iter должен быть равен 100, random_state сделайте равным 42.\n",
        "\n",
        "Постройте еще раз диаграмму рассеяния на данных, полученных с помощью TSNE,\n",
        "и раскрасьте точки из разных кластеров разными цветами.\n",
        "\n",
        "Вычислите средние значения price и CRIM в разных кластерах.\n"
      ],
      "metadata": {
        "id": "oonEoIK-gPjz"
      }
    },
    {
      "cell_type": "code",
      "source": [
        "from sklearn.cluster import KMeans"
      ],
      "metadata": {
        "id": "_Fb-Z94PhVDH"
      },
      "execution_count": 10,
      "outputs": []
    },
    {
      "cell_type": "code",
      "source": [
        "?KMeans"
      ],
      "metadata": {
        "id": "aAOLKMOyhqbm"
      },
      "execution_count": 11,
      "outputs": []
    },
    {
      "cell_type": "code",
      "source": [
        "kmeans = KMeans(n_clusters = 3, max_iter = 100, random_state = 42)\n",
        "\n",
        "labels_train = kmeans.fit_predict(X_train_scaled)\n",
        "\n",
        "plt.scatter(X_train_tsne[:, 0], X_train_tsne[:, 1], c=labels_train)\n",
        "\n",
        "plt.show()"
      ],
      "metadata": {
        "colab": {
          "base_uri": "https://localhost:8080/",
          "height": 262
        },
        "id": "P_6HBXbtcQaC",
        "outputId": "617039ed-f8ea-4bc0-ceba-44fa5bae1a16"
      },
      "execution_count": 12,
      "outputs": [
        {
          "output_type": "display_data",
          "data": {
            "image/png": "[encoded data removed]",
            "text/plain": [
              "<Figure size 432x288 with 1 Axes>"
            ]
          },
          "metadata": {
            "needs_background": "light"
          }
        }
      ]
    },
    {
      "cell_type": "code",
      "source": [
        "print('Первый кластер: ', y_train[labels_train == 0].mean())\n",
        "print('Второй кластер:', y_train[labels_train == 1].mean())\n",
        "print('Третий кластер:', y_train[labels_train == 2].mean())"
      ],
      "metadata": {
        "colab": {
          "base_uri": "https://localhost:8080/"
        },
        "id": "eNZPaxy3iCOE",
        "outputId": "14ea83e2-11e4-4978-d099-957d2c80ba26"
      },
      "execution_count": 13,
      "outputs": [
        {
          "output_type": "stream",
          "name": "stdout",
          "text": [
            "Первый кластер:  27.78837209302326\n",
            "Второй кластер: 16.165354330708663\n",
            "Третий кластер: 24.958115183246072\n"
          ]
        }
      ]
    },
    {
      "cell_type": "code",
      "source": [
        "print('Первый кластер: ', X_train['CRIM'][labels_train == 0].mean())\n",
        "print('Второй кластер:', X_train['CRIM'][labels_train == 1].mean())\n",
        "print('Третий кластер:', X_train['CRIM'][labels_train == 2].mean())"
      ],
      "metadata": {
        "colab": {
          "base_uri": "https://localhost:8080/"
        },
        "id": "qm5b5czaihb4",
        "outputId": "3da528c3-4b22-463c-b075-32d62457cfdb"
      },
      "execution_count": 14,
      "outputs": [
        {
          "output_type": "stream",
          "name": "stdout",
          "text": [
            "Первый кластер:  0.07356558139534886\n",
            "Второй кластер: 10.797028425196853\n",
            "Третий кластер: 0.42166020942408367\n"
          ]
        }
      ]
    },
    {
      "cell_type": "markdown",
      "source": [
        "*Задание 3\n",
        "\n",
        "Примените модель KMeans, построенную в предыдущем задании,\n",
        "\n",
        "к данным из тестового набора.\n",
        "\n",
        "Вычислите средние значения price и CRIM в разных кластерах на тестовых данных.\n"
      ],
      "metadata": {
        "id": "UgThYrL8jAOk"
      }
    },
    {
      "cell_type": "code",
      "source": [
        "scaler = StandardScaler()\n",
        "\n",
        "X_train_scaled = pd.DataFrame(scaler.fit_transform(X_train), columns=X_train.columns)\n",
        "X_test_scaled = pd.DataFrame(scaler.transform(X_test), columns=X_test.columns)"
      ],
      "metadata": {
        "id": "wJ424ZwQil34"
      },
      "execution_count": 15,
      "outputs": []
    },
    {
      "cell_type": "code",
      "source": [
        "X_test_tsne = tsne.fit_transform(X_test_scaled)"
      ],
      "metadata": {
        "colab": {
          "base_uri": "https://localhost:8080/"
        },
        "id": "sLJ6gEM7iv0C",
        "outputId": "376f9a05-81fa-4c9f-fa0b-3823bf774acb"
      },
      "execution_count": 16,
      "outputs": [
        {
          "output_type": "stream",
          "name": "stderr",
          "text": [
            "/usr/local/lib/python3.7/dist-packages/sklearn/manifold/_t_sne.py:783: FutureWarning: The default initialization in TSNE will change from 'random' to 'pca' in 1.2.\n",
            "  FutureWarning,\n"
          ]
        }
      ]
    },
    {
      "cell_type": "code",
      "source": [
        "labels_test = kmeans.fit_predict(X_test_scaled)\n",
        "\n",
        "plt.scatter(X_test_tsne[:, 0], X_test_tsne[:, 1], c=labels_test)\n",
        "plt.show()"
      ],
      "metadata": {
        "colab": {
          "base_uri": "https://localhost:8080/",
          "height": 266
        },
        "id": "g72kZawmixqB",
        "outputId": "e7ae6120-b929-400b-c714-58ad35b5d3fd"
      },
      "execution_count": 18,
      "outputs": [
        {
          "output_type": "display_data",
          "data": {
            "image/png": "[encoded data removed]",
            "text/plain": [
              "<Figure size 432x288 with 1 Axes>"
            ]
          },
          "metadata": {
            "needs_background": "light"
          }
        }
      ]
    },
    {
      "cell_type": "code",
      "source": [
        "print('Первый кластер: ', X_test['CRIM'][labels_test == 0].mean())\n",
        "print('Второй кластер:', X_test['CRIM'][labels_test== 1].mean())\n",
        "print('Третий кластер:', X_test['CRIM'][labels_test== 2].mean())"
      ],
      "metadata": {
        "colab": {
          "base_uri": "https://localhost:8080/"
        },
        "id": "Cx2hbhzii0Qi",
        "outputId": "ded55dd3-53d5-4993-cdc1-6b487668a36b"
      },
      "execution_count": 19,
      "outputs": [
        {
          "output_type": "stream",
          "name": "stdout",
          "text": [
            "Первый кластер:  0.08618571428571427\n",
            "Второй кластер: 0.25200716981132076\n",
            "Третий кластер: 10.165531142857143\n"
          ]
        }
      ]
    },
    {
      "cell_type": "code",
      "source": [
        ""
      ],
      "metadata": {
        "id": "SENCLsqvi97R"
      },
      "execution_count": null,
      "outputs": []
    }
  ]
}